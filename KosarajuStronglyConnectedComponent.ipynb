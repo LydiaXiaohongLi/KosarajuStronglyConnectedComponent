{
 "cells": [
  {
   "cell_type": "code",
   "execution_count": 32,
   "metadata": {},
   "outputs": [],
   "source": [
    "#import sys\n",
    "graph_edgelist=[['1','2'],['1','4'],['2','3'],['2','5'],['3','1'],['4','3'],['4','10'],['5','11'],['6','7'],['7','8'],['7','13'],\n",
    "               ['8','9'],['9','6'],['9','10'],['10','6'],['11','12'],['12','13'],['13','11']]\n",
    "#graph_edgelist = []\n",
    "#with open('Data\\SCC.txt') as file:\n",
    "#    for line in file:\n",
    "#        graph_edgelist.append(line.split())\n",
    "#sys.setrecursionlimit(15000)        "
   ]
  },
  {
   "cell_type": "code",
   "execution_count": 33,
   "metadata": {},
   "outputs": [],
   "source": [
    "class Kosaraju (object):\n",
    "    def __init__(self, graph_edgelist):\n",
    "        #Convert edgelist to adjancency nodelist, with forward and reverse direction\n",
    "        self.nodelist={}\n",
    "        for i in range(len(graph_edgelist)):\n",
    "            #if edgelist is given nodeid as int, then use append()\n",
    "            if graph_edgelist[i][0] != graph_edgelist[i][1]:\n",
    "                if (graph_edgelist[i][0] in self.nodelist) & (graph_edgelist[i][1] in self.nodelist) : \n",
    "                    self.nodelist[graph_edgelist[i][0]]['connected_node'].extend([graph_edgelist[i][1]])\n",
    "                    self.nodelist[graph_edgelist[i][1]]['connected_node_reverse'].extend([graph_edgelist[i][0]])\n",
    "                elif graph_edgelist[i][0] in self.nodelist:\n",
    "                    self.nodelist[graph_edgelist[i][0]]['connected_node'].extend([graph_edgelist[i][1]])\n",
    "                    self.nodelist[graph_edgelist[i][1]]={'connected_node_reverse':[graph_edgelist[i][0]],'connected_node':[]}\n",
    "                elif graph_edgelist[i][1] in self.nodelist:\n",
    "                    self.nodelist[graph_edgelist[i][1]]['connected_node_reverse'].extend([graph_edgelist[i][0]])\n",
    "                    self.nodelist[graph_edgelist[i][0]]={'connected_node':[graph_edgelist[i][1]],'connected_node_reverse':[]}    \n",
    "                else:\n",
    "                    self.nodelist[graph_edgelist[i][1]]={'connected_node_reverse':[graph_edgelist[i][0]],'connected_node':[]} \n",
    "                    self.nodelist[graph_edgelist[i][0]]={'connected_node':[graph_edgelist[i][1]],'connected_node_reverse':[]}    \n",
    "        #for all node, initialize the finishing time, leader, explored flag\n",
    "        for key in self.nodelist:\n",
    "            self.nodelist[key]['finishing_time']=0\n",
    "            self.nodelist[key]['explored']=False\n",
    "        #scc dictionary used to store all strongly connected components. Key as leader component    \n",
    "        self.scc={}\n",
    "        \n",
    "    def get_scc_kosaraju(self):\n",
    "        #Step1, First pass in reverse direction\n",
    "        #populate the node loop stack in the order of first pass finishing time\n",
    "        self.node_loop_stack=[]\n",
    "        for node in self.nodelist:\n",
    "            if self.nodelist[node]['explored']==False:\n",
    "                self.DFS(node,True)\n",
    "                \n",
    "        #Step2, Second pass in forward direction\n",
    "        #reset the explored flag to False, and initialize the leader as None\n",
    "        for key in self.nodelist:\n",
    "            self.nodelist[key]['leader']=None\n",
    "            self.nodelist[key]['explored']=False\n",
    "        #Loop through all the nodes in the order of reverse of first pass finishing time\n",
    "        while self.node_loop_stack != []:\n",
    "            node = self.node_loop_stack.pop()\n",
    "            if self.nodelist[node]['explored']==False:\n",
    "                self.leader=node\n",
    "                self.scc[self.leader]={'component_node':[]}                \n",
    "                self.DFS(node,False)        \n",
    "                \n",
    "    def DFS(self, node, reverse_flag):\n",
    "        if reverse_flag==True:\n",
    "            self.nodelist[node]['explored']=True\n",
    "            for child_node in self.nodelist[node]['connected_node_reverse']:\n",
    "                if self.nodelist[child_node]['explored']==False:\n",
    "                    self.DFS(child_node, True)\n",
    "            self.node_loop_stack.extend([node])\n",
    "\n",
    "        else:\n",
    "            self.nodelist[node]['explored']=True\n",
    "            for child_node in self.nodelist[node]['connected_node']:\n",
    "                if self.nodelist[child_node]['explored']==False:\n",
    "                    self.DFS(child_node, False)  \n",
    "            self.scc[self.leader]['component_node'].extend([node])\n",
    "        "
   ]
  },
  {
   "cell_type": "code",
   "execution_count": 35,
   "metadata": {},
   "outputs": [
    {
     "data": {
      "text/plain": [
       "{'10': {'component_node': ['9', '8', '7', '6', '10']},\n",
       " '11': {'component_node': ['13', '12', '11']},\n",
       " '2': {'component_node': ['4', '1', '3', '2']},\n",
       " '5': {'component_node': ['5']}}"
      ]
     },
     "execution_count": 35,
     "metadata": {},
     "output_type": "execute_result"
    }
   ],
   "source": [
    "kosaraju=Kosaraju(graph_edgelist)\n",
    "kosaraju.get_scc_kosaraju()\n",
    "kosaraju.scc"
   ]
  }
 ],
 "metadata": {
  "kernelspec": {
   "display_name": "Python 3",
   "language": "python",
   "name": "python3"
  },
  "language_info": {
   "codemirror_mode": {
    "name": "ipython",
    "version": 3
   },
   "file_extension": ".py",
   "mimetype": "text/x-python",
   "name": "python",
   "nbconvert_exporter": "python",
   "pygments_lexer": "ipython3",
   "version": "3.6.4"
  }
 },
 "nbformat": 4,
 "nbformat_minor": 2
}
